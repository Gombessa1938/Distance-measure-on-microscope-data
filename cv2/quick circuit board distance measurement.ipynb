{
 "cells": [
  {
   "cell_type": "code",
   "execution_count": 7,
   "metadata": {},
   "outputs": [],
   "source": [
    "import numpy as np\n",
    "import cv2\n",
    "import math\n",
    "from numpy import linalg as LA\n",
    "from copy import deepcopy\n",
    "units = 1 #float(input('please enter sample size in micron per pixel:'))\n",
    "\n",
    "first = np.zeros((2,1))\n",
    "second = np.zeros((2,1))\n",
    "\n",
    "def click_event(event,x,y,flags,param):\n",
    "    global first,second,img\n",
    "    global cache\n",
    "    \n",
    "    \n",
    "    if event == cv2.EVENT_LBUTTONDOWN:\n",
    "        cache = img.copy()\n",
    "        \n",
    "        #print('(',x,' , ',y,')')\n",
    "        font = cv2.FONT_HERSHEY_SIMPLEX\n",
    "        strXY = 'point A'#str(x) + ',' + str(y)\n",
    "        cv2.putText(img, strXY,(x,y),font,1,(225,225,0),3)\n",
    "        cv2.imshow('image',img)\n",
    "        first[0] = float(x)\n",
    "        first[1] = float(y)\n",
    "        #print(first)\n",
    "    \n",
    "    if event ==cv2.EVENT_RBUTTONDOWN:\n",
    "        \n",
    "        #print('(',x,' , ',y,')')\n",
    "        font = cv2.FONT_HERSHEY_SIMPLEX\n",
    "        strXY = 'point B'#str(x) + ',' + str(y)\n",
    "        cv2.putText(img, strXY,(x,y),font,1,(0,0,225),3)\n",
    "        cv2.imshow('image',img)\n",
    "        second[0] = float(x)\n",
    "        second[1] = float(y)\n",
    "        #print(second)\n",
    "        \n",
    "        dist = LA.norm(first - second)*units\n",
    "        \n",
    "        #print(round(dist,5),'micron')\n",
    "        strDist = 'distance is:' + str(round(dist,3)) +'um'\n",
    "        cv2.putText(img, strDist,(x+50,y+50),font,1,(225,180,180),3)\n",
    "        cv2.imshow('image',img)  \n",
    "        print(dist)\n",
    "    if event == cv2.EVENT_MBUTTONDOWN:\n",
    "        img = cache\n",
    "        cv2.imshow('image',img)\n",
    "        \n"
   ]
  },
  {
   "cell_type": "code",
   "execution_count": null,
   "metadata": {},
   "outputs": [],
   "source": [
    "img = cv2.imread('CB4.JPG')\n",
    "cv2.imshow('image',img)\n",
    "cv2.setMouseCallback('image',click_event)\n",
    "cv2.waitKey(0)\n",
    "cv2.destroyAllWindows()"
   ]
  },
  {
   "cell_type": "code",
   "execution_count": null,
   "metadata": {},
   "outputs": [],
   "source": []
  }
 ],
 "metadata": {
  "kernelspec": {
   "display_name": "Python 3",
   "language": "python",
   "name": "python3"
  },
  "language_info": {
   "codemirror_mode": {
    "name": "ipython",
    "version": 3
   },
   "file_extension": ".py",
   "mimetype": "text/x-python",
   "name": "python",
   "nbconvert_exporter": "python",
   "pygments_lexer": "ipython3",
   "version": "3.8.5"
  }
 },
 "nbformat": 4,
 "nbformat_minor": 4
}
