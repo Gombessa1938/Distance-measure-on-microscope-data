{
 "cells": [
  {
   "cell_type": "code",
   "execution_count": 11,
   "metadata": {},
   "outputs": [],
   "source": [
    "from math import sqrt \n",
    "import numpy as np\n",
    "# Function to find the circle on  \n",
    "# which the given three points lie  \n",
    "\n",
    "\n",
    "def findCircle(x1, y1, x2, y2, x3, y3) : \n",
    "    x12 = x1 - x2;  \n",
    "    x13 = x1 - x3;  \n",
    "  \n",
    "    y12 = y1 - y2;  \n",
    "    y13 = y1 - y3;  \n",
    "  \n",
    "    y31 = y3 - y1;  \n",
    "    y21 = y2 - y1;  \n",
    "  \n",
    "    x31 = x3 - x1;  \n",
    "    x21 = x2 - x1;  \n",
    "  \n",
    "    # x1^2 - x3^2  \n",
    "    sx13 = pow(x1, 2) - pow(x3, 2);  \n",
    "  \n",
    "    # y1^2 - y3^2  \n",
    "    sy13 = pow(y1, 2) - pow(y3, 2);  \n",
    "  \n",
    "    sx21 = pow(x2, 2) - pow(x1, 2);  \n",
    "    sy21 = pow(y2, 2) - pow(y1, 2);  \n",
    "  \n",
    "    f = (((sx13) * (x12) + (sy13) * \n",
    "          (x12) + (sx21) * (x13) + \n",
    "          (sy21) * (x13)) // (2 * \n",
    "          ((y31) * (x12) - (y21) * (x13)))); \n",
    "              \n",
    "    g = (((sx13) * (y12) + (sy13) * (y12) + \n",
    "          (sx21) * (y13) + (sy21) * (y13)) // \n",
    "          (2 * ((x31) * (y12) - (x21) * (y13))));  \n",
    "  \n",
    "    c = (-pow(x1, 2) - pow(y1, 2) - \n",
    "         2 * g * x1 - 2 * f * y1);  \n",
    "  \n",
    "    # eqn of circle be x^2 + y^2 + 2*g*x + 2*f*y + c = 0  \n",
    "    # where centre is (h = -g, k = -f) and  \n",
    "    # radius r as r^2 = h^2 + k^2 - c  \n",
    "    h = -g;  \n",
    "    k = -f;  \n",
    "    sqr_of_r = h * h + k * k - c;  \n",
    "  \n",
    "    # r is the radius  \n",
    "    r = round(sqrt(sqr_of_r), 5);  \n",
    "  \n",
    "    #print(\"Centre = (\", h, \", \", k, \")\");  \n",
    "    #print(\"Radius = \", r);  \n",
    "    center = np.array([[h],[k]])\n",
    "    #print(center)\n",
    "    return center,r\n"
   ]
  },
  {
   "cell_type": "code",
   "execution_count": 12,
   "metadata": {},
   "outputs": [],
   "source": [
    "import numpy as np\n",
    "x = np.array([[1],\n",
    "       [2],\n",
    "       [5]])\n",
    "y = np.array([[1],\n",
    "       [4],\n",
    "       [3]])"
   ]
  },
  {
   "cell_type": "code",
   "execution_count": 14,
   "metadata": {},
   "outputs": [
    {
     "name": "stdout",
     "output_type": "stream",
     "text": [
      "2.23607\n"
     ]
    }
   ],
   "source": [
    "c ,r= findCircle(x1 = float(x[0]),y1 = float(y[0]),x2=float(x[1]),y2=float(y[1]),x3=float(x[2]),y3=float(y[2]))\n",
    "print(r)"
   ]
  },
  {
   "cell_type": "code",
   "execution_count": 15,
   "metadata": {},
   "outputs": [],
   "source": [
    "import numpy as np\n",
    "import cv2\n",
    "import math\n",
    "from numpy import linalg as LA\n",
    "from copy import deepcopy\n",
    "units = 1 #float(input('please enter sample size in micron per pixel:'))\n",
    "\n",
    "first = np.zeros((2,1))\n",
    "second = np.zeros((2,1))"
   ]
  },
  {
   "cell_type": "code",
   "execution_count": 39,
   "metadata": {},
   "outputs": [],
   "source": [
    "x_position = []\n",
    "y_position = []\n",
    "\n",
    "x2_position =[]\n",
    "y2_position =[]\n",
    "def click_event(event,x,y,flags,param):\n",
    "    global first,second,img,center1,r\n",
    "    #global cache\n",
    "    if event == cv2.EVENT_LBUTTONDOWN:\n",
    "        #cache = img.copy()\n",
    "        x_position.append(x)\n",
    "        y_position.append(y)\n",
    "        #print('(',x,' , ',y,')')\n",
    "        font = cv2.FONT_HERSHEY_SIMPLEX\n",
    "        strXY = 'point '\n",
    "        \n",
    "        cv2.circle(img, (x,y),0,(225,225,0),5)\n",
    "        cv2.imshow('image',img)\n",
    "        first[0] = float(x)\n",
    "        first[1] = float(y)\n",
    "        \n",
    "        if len(x_position)==3:\n",
    "            center1,r = findCircle(x1 = float(x_position[0]),y1 = float(y_position[0]),x2=float(x_position[1]),y2=float(y_position[1]),\n",
    "                     x3=float(x_position[2]),y3=float(y_position[2]))\n",
    "            cv2.circle(img, ((int(center1[0]),int(center1[1]))), 0, (0,0,225), 8)\n",
    "            cv2.imshow('image',img)\n",
    "            cv2.circle(img, ((int(center1[0]),int(center1[1]))), int(np.round(r)), (225,0,0), 3)\n",
    "            cv2.imshow('image',img)\n",
    "            #print(center1)\n",
    "            \n",
    "    if event ==cv2.EVENT_RBUTTONDOWN:\n",
    "        x2_position.append(x)\n",
    "        y2_position.append(y)\n",
    "        \n",
    "        \n",
    "        font = cv2.FONT_HERSHEY_SIMPLEX\n",
    "        strXY = 'point'#str(x) + ',' + str(y)\n",
    "        #cv2.putText(img, strXY,(x,y),font,1,(0,0,225),3)\n",
    "        cv2.circle(img, (x,y),0,(225,225,0),5)\n",
    "        cv2.imshow('image',img)\n",
    "        second[0] = float(x)\n",
    "        second[1] = float(y)\n",
    "        #print(second)\n",
    "        if len(x2_position)==3:\n",
    "            center2,r = findCircle(x1 = float(x2_position[0]),y1 = float(y2_position[0]),x2=float(x2_position[1]),y2=float(y2_position[1]),\n",
    "                     x3=float(x2_position[2]),y3=float(y2_position[2]))\n",
    "            #print(center2)\n",
    "            cv2.circle(img, (int(center2[0]),int(center2[1])), 0, (0,0,225), 8)\n",
    "            cv2.imshow('image',img)\n",
    "            cv2.circle(img, ((int(center2[0]),int(center2[1]))), int(np.round(r)), (225,0,0), 3)\n",
    "            cv2.imshow('image',img)\n",
    "            \n",
    "        \n",
    "            dist = LA.norm(center1 - center2)*units\n",
    "        \n",
    "            print(round(dist,5),'micron')\n",
    "        \n",
    "            strDist = 'distance is:' + str(round(dist,3)) +'um'\n",
    "        \n",
    "            cv2.putText(img, strDist,(int(center2[0])+50,int(center2[1])+50),font,1,(225,100,225),3)\n",
    "            cv2.imshow('image',img)        \n",
    "    if event == cv2.EVENT_MBUTTONDOWN:\n",
    "        #img = cache\n",
    "        cv2.imshow('image',img)\n",
    "        \n",
    "    "
   ]
  },
  {
   "cell_type": "code",
   "execution_count": 40,
   "metadata": {},
   "outputs": [
    {
     "name": "stdout",
     "output_type": "stream",
     "text": [
      "949.00053 micron\n"
     ]
    }
   ],
   "source": [
    "img = cv2.imread('CB4.JPG')\n",
    "#cache = img.copy()\n",
    "cv2.imshow('image',img)\n",
    "cv2.setMouseCallback('image',click_event)\n",
    "cv2.waitKey(0)\n",
    "cv2.destroyAllWindows()"
   ]
  },
  {
   "cell_type": "code",
   "execution_count": null,
   "metadata": {},
   "outputs": [],
   "source": []
  }
 ],
 "metadata": {
  "kernelspec": {
   "display_name": "Python 3",
   "language": "python",
   "name": "python3"
  },
  "language_info": {
   "codemirror_mode": {
    "name": "ipython",
    "version": 3
   },
   "file_extension": ".py",
   "mimetype": "text/x-python",
   "name": "python",
   "nbconvert_exporter": "python",
   "pygments_lexer": "ipython3",
   "version": "3.8.5"
  }
 },
 "nbformat": 4,
 "nbformat_minor": 4
}
