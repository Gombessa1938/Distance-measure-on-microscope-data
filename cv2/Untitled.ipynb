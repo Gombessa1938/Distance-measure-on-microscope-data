{
 "cells": [
  {
   "cell_type": "code",
   "execution_count": 1,
   "metadata": {},
   "outputs": [],
   "source": [
    "from scipy.spatial import distance as dist\n",
    "from imutils import perspective\n",
    "from imutils import contours\n",
    "import numpy as np\n",
    "import imutils\n",
    "import cv2"
   ]
  },
  {
   "cell_type": "code",
   "execution_count": 28,
   "metadata": {},
   "outputs": [],
   "source": [
    "def midpoint(ptA, ptB):\n",
    "    return ((ptA[0] + ptB[0]) / 2, (ptA[1] + ptB[1]) / 2)"
   ]
  },
  {
   "cell_type": "code",
   "execution_count": 29,
   "metadata": {},
   "outputs": [],
   "source": [
    "image_path = 'CB.JPEG'\n",
    "width_reference_object = 1"
   ]
  },
  {
   "cell_type": "code",
   "execution_count": 30,
   "metadata": {},
   "outputs": [],
   "source": [
    "image = cv2.imread(image_path)\n",
    "gray = cv2.cvtColor(image, cv2.COLOR_BGR2GRAY)\n",
    "gray = cv2.GaussianBlur(gray, (7,7), 0)"
   ]
  },
  {
   "cell_type": "code",
   "execution_count": 31,
   "metadata": {},
   "outputs": [],
   "source": [
    "edged = cv2.Canny(gray, 50, 100)\n",
    "edged = cv2.dilate(edged, None, iterations= 1)\n",
    "edged = cv2.erode(edged, None, iterations= 1)"
   ]
  },
  {
   "cell_type": "code",
   "execution_count": 32,
   "metadata": {},
   "outputs": [],
   "source": [
    "cnts = cv2.findContours(edged.copy(), cv2.RETR_EXTERNAL, cv2.CHAIN_APPROX_SIMPLE)\n",
    "cnts = imutils.grab_contours(cnts)"
   ]
  },
  {
   "cell_type": "code",
   "execution_count": 33,
   "metadata": {},
   "outputs": [],
   "source": [
    "# sort the contour from left to right\n",
    "# initialize the color\n",
    "# init the reference object - which will store bounding box, centroid, pixels-per-metric\n",
    "(cnts, _) = contours.sort_contours(cnts, 'left-to-right')\n",
    "colors = ((0, 0, 255), (240, 0, 159), (0, 165, 255), (255, 255, 0), (255, 0, 255))\n",
    "refObj = None"
   ]
  },
  {
   "cell_type": "code",
   "execution_count": 34,
   "metadata": {},
   "outputs": [
    {
     "ename": "KeyboardInterrupt",
     "evalue": "",
     "output_type": "error",
     "traceback": [
      "\u001b[1;31m---------------------------------------------------------------------------\u001b[0m",
      "\u001b[1;31mKeyboardInterrupt\u001b[0m                         Traceback (most recent call last)",
      "\u001b[1;32m<ipython-input-34-d6d491ad3e8d>\u001b[0m in \u001b[0;36m<module>\u001b[1;34m\u001b[0m\n\u001b[0;32m     61\u001b[0m         \u001b[1;31m# show the output image\u001b[0m\u001b[1;33m\u001b[0m\u001b[1;33m\u001b[0m\u001b[1;33m\u001b[0m\u001b[0m\n\u001b[0;32m     62\u001b[0m         \u001b[0mcv2\u001b[0m\u001b[1;33m.\u001b[0m\u001b[0mimshow\u001b[0m\u001b[1;33m(\u001b[0m\u001b[1;34m\"Image\"\u001b[0m\u001b[1;33m,\u001b[0m \u001b[0morig\u001b[0m\u001b[1;33m)\u001b[0m\u001b[1;33m\u001b[0m\u001b[1;33m\u001b[0m\u001b[0m\n\u001b[1;32m---> 63\u001b[1;33m         \u001b[0mcv2\u001b[0m\u001b[1;33m.\u001b[0m\u001b[0mwaitKey\u001b[0m\u001b[1;33m(\u001b[0m\u001b[1;36m0\u001b[0m\u001b[1;33m)\u001b[0m\u001b[1;33m\u001b[0m\u001b[1;33m\u001b[0m\u001b[0m\n\u001b[0m",
      "\u001b[1;31mKeyboardInterrupt\u001b[0m: "
     ]
    }
   ],
   "source": [
    "for c in cnts:\n",
    "\n",
    "    if cv2.contourArea(c) < 500:\n",
    "        continue\n",
    "\n",
    "    # compute the rotated bounding box of the contour\n",
    "    box = cv2.minAreaRect(c)\n",
    "    box = cv2.cv.BoxPoints(box) if imutils.is_cv2() else cv2.boxPoints(box)\n",
    "    box = np.array(box, dtype=\"int\")\n",
    "\n",
    "    # order the points in the contour such that they appear\n",
    "    # in top-left, top-right, bottom-right, and bottom-left\n",
    "    # order, then draw the outline of the rotated bounding box\n",
    "    box = perspective.order_points(box)\n",
    "\n",
    "    #compute the center of the bounding box\n",
    "    cX = np.average(box[:, 0])\n",
    "    cY = np.average(box[:, 1])\n",
    "\n",
    "    # if this is the first contour we are examining (i.e.,\n",
    "    # the left-most contour), we presume this is the\n",
    "    # reference object\n",
    "    if refObj is None:\n",
    "        # unpack the ordered bounding box, then compute the\n",
    "        # midpoint between the top-left and top-right points,\n",
    "        # followed by the midpoint between the top-right and\n",
    "        # bottom-right\n",
    "        (tl, tr, br, bl) = box\n",
    "        (tlblX, tlblY) = midpoint(tl, bl)\n",
    "        (trbrX, trbrY) = midpoint(tr, br)\n",
    "\n",
    "        # compute the Euclidean distance between the midpoints,\n",
    "        # then construct the reference object\n",
    "        D = dist.euclidean((tlblX, tlblY), (trbrX, trbrY))\n",
    "        refObj = (box, (cX, cY), D/width_reference_object)\n",
    "        continue\n",
    "\n",
    "    # draw the contours on the image\n",
    "    orig = image.copy()\n",
    "    cv2.drawContours(orig, [box.astype(\"int\")], -1, (0, 255, 0), 2)\n",
    "    cv2.drawContours(orig, [refObj[0].astype(\"int\")], -1, (0, 255, 0), 2)\n",
    "\n",
    "    # stack the reference coordinates and the object coordinates\n",
    "    # to include the object center\n",
    "    refCoords = np.vstack([refObj[0], refObj[1]])\n",
    "    objCoords = np.vstack([box, (cX, cY)])\n",
    "\n",
    "    # loop over the original points\n",
    "    for ((xA, yA), (xB, yB), color) in zip(refCoords, objCoords, colors):\n",
    "        # draw circles corresponding to the current points and\n",
    "        # connect them with a line\n",
    "        cv2.circle(orig, (int(xA), int(yA)), 5, color, -1)\n",
    "        cv2.circle(orig, (int(xB), int(yB)), 5, color, -1)\n",
    "        cv2.line(orig, (int(xA), int(yA)), (int(xB), int(yB)), color, 2)\n",
    "        # compute the Euclidean distance between the coordinates,\n",
    "        # and then convert the distance in pixels to distance in\n",
    "        # units\n",
    "        D = dist.euclidean((xA, yA), (xB, yB)) / refObj[2]\n",
    "        (mX, mY) = midpoint((xA, yA), (xB, yB))\n",
    "        cv2.putText(orig, \"{:.1f}in\".format(D), (int(mX), int(mY - 10)), cv2.FONT_HERSHEY_SIMPLEX, 0.55, color, 2)\n",
    "        # show the output image\n",
    "        cv2.imshow(\"Image\", orig)\n",
    "        cv2.waitKey(0)"
   ]
  },
  {
   "cell_type": "code",
   "execution_count": 2,
   "metadata": {},
   "outputs": [
    {
     "name": "stdout",
     "output_type": "stream",
     "text": [
      "9.848857801796104\n",
      "9.848857801796104\n",
      "9.848857801796104\n",
      "9.848857801796104\n",
      "9.848857801796104\n"
     ]
    }
   ],
   "source": [
    "from tkinter import *\n",
    "from PIL import ImageTk, Image\n",
    "import math\n",
    "\n",
    "root = Tk()\n",
    "\n",
    "img = ImageTk.PhotoImage(Image.open(\"CB.JPEG\"))\n",
    "panel = Label(root, image=img)\n",
    "panel.pack(side=\"bottom\", fill=\"both\", expand=\"yes\")\n",
    "x0 = 0\n",
    "y0 = 0\n",
    "x1 = 0\n",
    "y1 = 0\n",
    "\n",
    "\n",
    "def leftClick(event):\n",
    "    global x0, y0\n",
    "    x0 = event.x\n",
    "    y0 = event.y\n",
    "    # return [x0, y0]\n",
    "\n",
    "\n",
    "panel.bind(\"<Button-1>\", leftClick)\n",
    "\n",
    "\n",
    "def rightClick(event):\n",
    "    global x1, y1\n",
    "    x1 = event.x\n",
    "    y1 = event.y\n",
    "    # return x1, y1\n",
    "\n",
    "\n",
    "panel.bind(\"<Button-3>\", rightClick)\n",
    "\n",
    "\n",
    "def getDistance(event):\n",
    "    global x0, y0, x1, y1\n",
    "    distance = math.sqrt(((x0 - x1)**2)+((y0 - y1)**2))\n",
    "    print(distance)\n",
    "\n",
    "\n",
    "panel.bind(\"<Button-2>\", getDistance)\n",
    "root.mainloop()"
   ]
  },
  {
   "cell_type": "code",
   "execution_count": 6,
   "metadata": {},
   "outputs": [
    {
     "name": "stdout",
     "output_type": "stream",
     "text": [
      "645.3100030218035\n"
     ]
    }
   ],
   "source": [
    "from tkinter import *\n",
    "from PIL import ImageTk, Image\n",
    "import math\n",
    "\n",
    "root = Tk()\n",
    "\n",
    "img = ImageTk.PhotoImage(Image.open(\"CB.JPEG\"))\n",
    "panel = Label(root, image=img)\n",
    "panel.pack(side=\"bottom\", fill=\"both\", expand=\"yes\")\n",
    "counter = 0\n",
    "x0 = 0\n",
    "x1 = 0\n",
    "y0 = 0\n",
    "y1 = 0\n",
    "\n",
    "\n",
    "def getDistance(event):\n",
    "    global counter, x0, y0, x1, y1\n",
    "    if counter == 0:\n",
    "        x0 = event.x\n",
    "        y0 = event.y\n",
    "        counter += 1\n",
    "    elif counter == 1:\n",
    "        x1 = event.x\n",
    "        y1 = event.y\n",
    "        counter += 1\n",
    "    elif counter == 2:\n",
    "        distance = math.sqrt(((x0 - x1)**2)+((y0 - y1)**2))\n",
    "        print(distance)\n",
    "        counter = 0\n",
    "\n",
    "\n",
    "panel.bind(\"<Button-1>\", getDistance)\n",
    "root.mainloop()"
   ]
  },
  {
   "cell_type": "code",
   "execution_count": 7,
   "metadata": {},
   "outputs": [
    {
     "name": "stdout",
     "output_type": "stream",
     "text": [
      "109 149 109 149\n",
      "1.4142135623730951\n",
      "89 794 89 794\n",
      "1.4142135623730951\n",
      "109 145 481 795\n"
     ]
    },
    {
     "name": "stderr",
     "output_type": "stream",
     "text": [
      "Exception in Tkinter callback\n",
      "Traceback (most recent call last):\n",
      "  File \"C:\\Users\\Joe\\anaconda3\\lib\\tkinter\\__init__.py\", line 1883, in __call__\n",
      "    return self.func(*args)\n",
      "  File \"<ipython-input-7-27701e5c4c98>\", line 16, in mouse_left_release_detection\n",
      "    print(get_instance(start_point_x, start_point_y, end_point_x, end_point_y))\n",
      "  File \"<ipython-input-7-27701e5c4c98>\", line 19, in get_instance\n",
      "    return math.sqrt((pow(abs(x2-x1), abs(x2-x1))+pow(abs(y2-y1), abs(y2-y1))))\n",
      "OverflowError: int too large to convert to float\n"
     ]
    },
    {
     "name": "stdout",
     "output_type": "stream",
     "text": [
      "485 795 485 795\n",
      "1.4142135623730951\n"
     ]
    }
   ],
   "source": [
    "import tkinter as tk\n",
    "from PIL import ImageTk, Image\n",
    "import math\n",
    "start_point_x, start_point_y, end_point_x, end_point_y = 0, 0, 0, 0\n",
    "\n",
    "def mouse_left_down_detection(event):\n",
    "    global start_point_x, start_point_y\n",
    "    start_point_x = event.x\n",
    "    start_point_y = event.y\n",
    "\n",
    "def mouse_left_release_detection(event):\n",
    "    global end_point_x, end_point_y\n",
    "    end_point_x = event.x\n",
    "    end_point_y = event.y\n",
    "    print(start_point_x, start_point_y, end_point_x, end_point_y)\n",
    "    print(get_instance(start_point_x, start_point_y, end_point_x, end_point_y))\n",
    "\n",
    "def get_instance(x1, y1, x2, y2):\n",
    "    return math.sqrt((pow(abs(x2-x1), abs(x2-x1))+pow(abs(y2-y1), abs(y2-y1))))\n",
    "\n",
    "image_path = \"CB.JPEG\"\n",
    "root = tk.Tk()\n",
    "img = ImageTk.PhotoImage(Image.open(image_path))\n",
    "panel = tk.Label(root, image=img)\n",
    "# Bind event mouse left down\n",
    "panel.bind(\"<Button-1>\", mouse_left_down_detection)\n",
    "# Bind event mouse left release and calculate distance\n",
    "panel.bind(\"<ButtonRelease-1>\", mouse_left_release_detection)\n",
    "panel.pack(side=\"bottom\", fill=\"both\", expand=\"yes\")\n",
    "root.mainloop()"
   ]
  },
  {
   "cell_type": "code",
   "execution_count": 24,
   "metadata": {},
   "outputs": [
    {
     "name": "stdout",
     "output_type": "stream",
     "text": [
      "['EVENT_FLAG_ALTKEY', 'EVENT_FLAG_CTRLKEY', 'EVENT_FLAG_LBUTTON', 'EVENT_FLAG_MBUTTON', 'EVENT_FLAG_RBUTTON', 'EVENT_FLAG_SHIFTKEY', 'EVENT_LBUTTONDBLCLK', 'EVENT_LBUTTONDOWN', 'EVENT_LBUTTONUP', 'EVENT_MBUTTONDBLCLK', 'EVENT_MBUTTONDOWN', 'EVENT_MBUTTONUP', 'EVENT_MOUSEHWHEEL', 'EVENT_MOUSEMOVE', 'EVENT_MOUSEWHEEL', 'EVENT_RBUTTONDBLCLK', 'EVENT_RBUTTONDOWN', 'EVENT_RBUTTONUP']\n"
     ]
    }
   ],
   "source": [
    "import numpy as np\n",
    "import cv2\n",
    "import math\n",
    "events = [i for i in dir(cv2) if 'EVENT' in i]\n",
    "print(events)"
   ]
  },
  {
   "cell_type": "code",
   "execution_count": 58,
   "metadata": {},
   "outputs": [
    {
     "name": "stdout",
     "output_type": "stream",
     "text": [
      "[[0.]\n",
      " [0.]]\n",
      "( 115  ,  149 )\n",
      "[[115.]\n",
      " [149.]]\n",
      "( 89  ,  792 )\n",
      "[[ 89.]\n",
      " [792.]]\n",
      "643.5254462723288\n",
      "( 104  ,  382 )\n",
      "[[104.]\n",
      " [382.]]\n",
      "( 96  ,  587 )\n",
      "[[ 96.]\n",
      " [587.]]\n",
      "205.15603817582362\n",
      "( 322  ,  386 )\n",
      "[[322.]\n",
      " [386.]]\n",
      "( 662  ,  394 )\n",
      "[[662.]\n",
      " [394.]]\n",
      "340.0941046239996\n",
      "( 317  ,  228 )\n",
      "[[317.]\n",
      " [228.]]\n",
      "( 640  ,  238 )\n",
      "[[640.]\n",
      " [238.]]\n",
      "323.154761685481\n",
      "( 312  ,  79 )\n",
      "[[312.]\n",
      " [ 79.]]\n",
      "( 711  ,  85 )\n",
      "[[711.]\n",
      " [ 85.]]\n",
      "399.0451102319135\n"
     ]
    }
   ],
   "source": [
    "import numpy as up\n",
    "from numpy import linalg as LA\n",
    "\n",
    "first = np.zeros((2,1))\n",
    "second = np.zeros((2,1))\n",
    "print(first)\n",
    "\n",
    "def click_event(event,x,y,flags,param):\n",
    "    global first,second\n",
    "    if event == cv2.EVENT_LBUTTONDOWN:\n",
    "        print('(',x,' , ',y,')')\n",
    "        font = cv2.FONT_HERSHEY_SIMPLEX\n",
    "        strXY = str(x) + ',' + str(y)\n",
    "        cv2.putText(img, strXY,(x,y),font,1,(225,225,0),3)\n",
    "        cv2.imshow('image',img)\n",
    "        first[0] = float(x)\n",
    "        first[1] = float(y)\n",
    "        print(first)\n",
    "    if event ==cv2.EVENT_RBUTTONDOWN:\n",
    "        print('(',x,' , ',y,')')\n",
    "        font = cv2.FONT_HERSHEY_SIMPLEX\n",
    "        strXY = str(x) + ',' + str(y)\n",
    "        cv2.putText(img, strXY,(x,y),font,1,(0,0,225),3)\n",
    "        cv2.imshow('image',img)\n",
    "        second[0] = float(x)\n",
    "        second[1] = float(y)\n",
    "        print(second)\n",
    "        \n",
    "        dist = LA.norm(first - second)\n",
    "        print(dist)\n",
    "        strDist = 'distance is :' + str(dist)\n",
    "        cv2.putText(img, strDist,(x+50,y+50),font,1,(0,0,225),3)\n",
    "        cv2.imshow('image',img)\n",
    "        #d = get_dinstance(x_1, y_1, x_2,y_2)\n",
    "        \n",
    "        #dis = str(d)\n",
    "        \n",
    "        \n",
    "        #cv2.putText(img,dis,d,font,1,(0,225,0),3)\n",
    "        #cv2.imshow('image',img)\n",
    "\n",
    "        \n",
    "\n",
    "\n",
    "#print(get_instance(x_1,y_1,x_2,y_2))\n",
    "img = cv2.imread('CB.JPEG')\n",
    "\n",
    "cv2.imshow('image',img)\n",
    "cv2.setMouseCallback('image',click_event)\n",
    "cv2.waitKey(0)\n",
    "cv2.destroyAllWindows()"
   ]
  },
  {
   "cell_type": "code",
   "execution_count": null,
   "metadata": {},
   "outputs": [],
   "source": []
  }
 ],
 "metadata": {
  "kernelspec": {
   "display_name": "Python 3",
   "language": "python",
   "name": "python3"
  },
  "language_info": {
   "codemirror_mode": {
    "name": "ipython",
    "version": 3
   },
   "file_extension": ".py",
   "mimetype": "text/x-python",
   "name": "python",
   "nbconvert_exporter": "python",
   "pygments_lexer": "ipython3",
   "version": "3.8.5"
  }
 },
 "nbformat": 4,
 "nbformat_minor": 4
}
